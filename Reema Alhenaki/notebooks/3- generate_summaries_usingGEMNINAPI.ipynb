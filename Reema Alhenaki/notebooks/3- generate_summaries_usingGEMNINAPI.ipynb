{
 "cells": [
  {
   "cell_type": "code",
   "execution_count": 1,
   "id": "bb12ccf8-b644-4c36-b133-993a31e18031",
   "metadata": {},
   "outputs": [],
   "source": [
    "import os\n",
    "import pandas as pd\n",
    "import json"
   ]
  },
  {
   "cell_type": "code",
   "execution_count": 2,
   "id": "5981116c-bd45-40d7-9cac-ad9adf4c6f2e",
   "metadata": {},
   "outputs": [],
   "source": [
    "from google import genai"
   ]
  },
  {
   "cell_type": "code",
   "execution_count": 9,
   "id": "ec2755a6-4a3c-4750-aac6-1e5fb09e6c08",
   "metadata": {},
   "outputs": [],
   "source": [
    "import time"
   ]
  },
  {
   "cell_type": "code",
   "execution_count": 4,
   "id": "3030c934-1e88-405e-b278-21e31aa9fc8d",
   "metadata": {},
   "outputs": [],
   "source": [
    "#Read files\n",
    "data_path = \"c:/Users/reema.alhenaki/Desktop/llama3_Data/data/cleaned\"\n",
    "patient_df = pd.read_csv(os.path.join(data_path, \"HIS_Patient.csv\"))\n",
    "vitals_df = pd.read_csv(os.path.join(data_path, \"HIS_PatientVitalSigns.csv\"))\n",
    "appointments_df = pd.read_csv(os.path.join(data_path, \"HIS_Appointment.csv\"))\n",
    "docOrders_df = pd.read_csv(os.path.join(data_path, \"HIS_DoctorOrder.csv\"))"
   ]
  },
  {
   "cell_type": "code",
   "execution_count": null,
   "id": "3f5f0eea-02a4-43fd-abe7-f26832e43c38",
   "metadata": {},
   "outputs": [
    {
     "name": "stdout",
     "output_type": "stream",
     "text": [
      "Please provide the data you want me to summarize. Once you provide the data, I will give you a clear and full human-readable summary for each patient, including 'nan' values as requested.\n"
     ]
    }
   ],
   "source": [
    "# Initialize client with API key and checking connection with Gemini API\n",
    "\n",
    "client = genai.Client(api_key=\"API KEY\")\n",
    "\n",
    "\n",
    "response = client.models.generate_content(\n",
    "    model=\"gemini-2.5-flash\", contents=\"Based on the data you read give a clear and a full human readable summary about each patient. If the value is 'nan' to include it in the summary. This is the data\"\n",
    ")\n",
    "print(response.text)"
   ]
  },
  {
   "cell_type": "code",
   "execution_count": null,
   "id": "0278a09f-eae8-442d-a44e-9807177e5e27",
   "metadata": {},
   "outputs": [],
   "source": [
    "#Function to remove Nan\n",
    "def clean_nan_records(record):\n",
    "    return {k: v for k, v in record.items() if pd.notna(v)}\n",
    " "
   ]
  },
  {
   "cell_type": "markdown",
   "id": "4fcd2a1d-3b4b-4825-a6b0-a563e9a057fd",
   "metadata": {},
   "source": [
    "## All Patients Summary Creation"
   ]
  },
  {
   "cell_type": "code",
   "execution_count": 11,
   "id": "4698a5b3-e338-487b-87a0-a206eeb3666b",
   "metadata": {},
   "outputs": [
    {
     "name": "stdout",
     "output_type": "stream",
     "text": [
      "Processing patient 1/12: 2677554\n",
      "Processing patient 2/12: 1910035\n",
      "Processing patient 3/12: 2573089\n",
      "Processing patient 4/12: 2420011\n",
      "Processing patient 5/12: 2339688\n",
      "Processing patient 6/12: 2116903\n",
      "Processing patient 7/12: 2080108\n",
      "Processing patient 8/12: 1424125\n",
      "Processing patient 9/12: 1354371\n",
      "Processing patient 10/12: 1144414\n",
      "Processing patient 11/12: 50172351\n",
      "Processing patient 12/12: 50087049\n",
      "✅ Summaries generated and saved to C:/Users/reema.alhenaki/Desktop/llama3_Data/data/json/patient_summaries_GEMINI.json\n"
     ]
    }
   ],
   "source": [
    "# Prepare the list of Patient IDs\n",
    "patient_ids = patient_df[\"PatientID\"].unique().tolist()\n",
    "all_patients_data = []\n",
    " \n",
    "# The path of the file that stores the json data + summary\n",
    "output_path = \"C:/Users/reema.alhenaki/Desktop/llama3_Data/data/json/patient_summaries_GEMINI.json\"\n",
    " \n",
    "# Load progress if exists\n",
    "if os.path.exists(output_path):\n",
    "    with open(output_path, \"r\", encoding=\"utf-8\") as f:\n",
    "        all_patients_data = json.load(f)\n",
    "    processed_ids = {p[\"PatientID\"] for p in all_patients_data}\n",
    "else:\n",
    "    processed_ids = set()\n",
    " \n",
    "# Retry configuration\n",
    "max_retries = 3\n",
    "retry_delay = 10  # seconds\n",
    " \n",
    "for idx, pid in enumerate(patient_ids, start=1):\n",
    "    if pid in processed_ids:\n",
    "        print(f\"Skipping already processed patient {pid}\")\n",
    "        continue\n",
    " \n",
    "    print(f\"Processing patient {idx}/{len(patient_ids)}: {pid}\")\n",
    " \n",
    "    # Extract filtered patient data\n",
    "    patient_info = patient_df[patient_df[\"PatientID\"] == pid].to_dict(orient=\"records\")\n",
    "    vital_signs = vitals_df[vitals_df[\"PatientID\"] == pid].to_dict(orient=\"records\")\n",
    "    appointments = appointments_df[appointments_df[\"PatientID\"] == pid].to_dict(orient=\"records\")\n",
    "    doctor_orders = docOrders_df[docOrders_df[\"PatientID\"] == pid].to_dict(orient=\"records\")\n",
    " \n",
    "    # Clean nested records\n",
    "    vital_signs = [clean_nan_records(record) for record in vital_signs]\n",
    "    appointments = [clean_nan_records(record) for record in appointments]\n",
    "    doctor_orders = [clean_nan_records(record) for record in doctor_orders]\n",
    " \n",
    "    # Clean patient info and remove PatientID key\n",
    "    if patient_info:\n",
    "        patient_info_cleaned = clean_nan_records(patient_info[0])\n",
    "        patient_info_cleaned.pop(\"PatientID\", None)\n",
    "    else:\n",
    "        patient_info_cleaned = {}\n",
    " \n",
    "    # Build patient data dictionary\n",
    "    patient_data = {\n",
    "        \"PatientID\": pid,\n",
    "        \"PatientInfo\": patient_info_cleaned,\n",
    "        \"VitalSigns\": vital_signs,\n",
    "        \"Appointments\": appointments,\n",
    "        \"DoctorOrders\": doctor_orders,\n",
    "    }\n",
    "\n",
    "    \n",
    "    # Convert patient data to JSON string for the prompt\n",
    "    patient_data_str = json.dumps(patient_data, indent=2, ensure_ascii=False)\n",
    " \n",
    "    # Create your prompt as you are currently using\n",
    "    prompt = (\n",
    "        \"Based on the data you read, give a clear and full human-readable summary about this patient. \"\n",
    "        \"If any value is 'nan', please include it explicitly in the summary. If the patient gender is 1 which indicates male then do not mention pregnancy because he is definatly not. Don't include (Here is a clear and full human-readable summary about the patient), start with the summary immediately. If you face a Nan value ignore it and do not mention the info related to it in the summary Here is the data:\\n\\n\"\n",
    "    + patient_data_str\n",
    "        + patient_data_str\n",
    "    )\n",
    " \n",
    "    # Retry logic with current API call\n",
    "    retries = 0\n",
    "    while retries < max_retries:\n",
    "        try:\n",
    "            response = client.models.generate_content(\n",
    "                model=\"gemini-2.5-flash\",\n",
    "                contents=prompt\n",
    "            )\n",
    "            full_summary = response.text\n",
    "            break  # Success\n",
    "        except Exception as e:\n",
    "            retries += 1\n",
    "            print(f\"Error generating summary for PatientID {pid} (Attempt {retries}/{max_retries}): {e}\")\n",
    "            if retries == max_retries:\n",
    "                print(f\"❌ Max retries reached. Stopping safely.\")\n",
    "                # Save progress before exiting\n",
    "                with open(output_path, \"w\", encoding=\"utf-8\") as f:\n",
    "                    json.dump(all_patients_data, f, indent=2, ensure_ascii=False)\n",
    "                exit()\n",
    "\n",
    "            else:\n",
    "                print(f\"Retrying after {retry_delay} seconds...\")\n",
    "                time.sleep(retry_delay)\n",
    " \n",
    "    # Add summary to patient data\n",
    "    patient_data[\"Summary\"] = full_summary\n",
    " \n",
    "    # Append to master list\n",
    "    all_patients_data.append(patient_data)\n",
    " \n",
    "    # Save after each patient\n",
    "    with open(output_path, \"w\", encoding=\"utf-8\") as f:\n",
    "        json.dump(all_patients_data, f, indent=2, ensure_ascii=False)\n",
    " \n",
    "    # Optional: Small delay to respect API limits\n",
    "    time.sleep(1)\n",
    " \n",
    "print(f\"✅ Summaries generated and saved to {output_path}\")\n",
    "\n",
    " "
   ]
  },
  {
   "cell_type": "markdown",
   "id": "282d0e18-ff11-4cbf-b15e-1a9f15f18076",
   "metadata": {
    "jp-MarkdownHeadingCollapsed": true
   },
   "source": [
    "## Single Patient Summary per Json file"
   ]
  },
  {
   "cell_type": "code",
   "execution_count": 6,
   "id": "0658eda0-66fe-4692-abf2-9965be101f23",
   "metadata": {},
   "outputs": [
    {
     "name": "stdout",
     "output_type": "stream",
     "text": [
      "=== Patient Data to send ===\n",
      "{\n",
      "  \"PatientID\": 50172351,\n",
      "  \"PatientInfo\": {\n",
      "    \"PatientID\": 50172351,\n",
      "    \"RegistrationDate\": \"20/12/2011\",\n",
      "    \"FirstName\": \"Yusuf\",\n",
      "    \"MiddleName\": \"Abdullah\",\n",
      "    \"LastName\": \"Abdullah\",\n",
      "    \"Gender\": 1,\n",
      "    \"DateofBirth\": \"20/12/1967 14:43\",\n",
      "    \"NationalityID\": \"SAU\",\n",
      "    \"FirstVisit\": \"20/12/2011 14:44\",\n",
      "    \"LastVisit\": \"25/06/2018 17:17\",\n",
      "    \"NoOfVisit\": 19,\n",
      "    \"MobileNumber\": 555333541,\n",
      "    \"EmailAddress\": \"yusuf@mail.com\",\n",
      "    \"IsPregnant\": 0,\n",
      "    \"BloodGroup\": 0,\n",
      "    \"RHFactor\": \" \",\n",
      "    \"RegisteredDoctor\": 9802,\n",
      "    \"EmergencyContactName\": \"NAWAL\",\n",
      "    \"EmergencyContactNo\": 555333542\n",
      "  },\n",
      "  \"VitalSigns\": [\n",
      "    {\n",
      "      \"PatientID\": 50172351,\n",
      "      \"WeightKg\": 100.0,\n",
      "      \"HeightCm\": 167.0,\n",
      "      \"BodyMassIndex\": 0.0,\n",
      "      \"TemperatureCelcius\": 36.9,\n",
      "      \"PulseBeatPerMinute\": 86,\n",
      "      \"RespirationBeatPerMinute\": 20,\n",
      "      \"BloodPressureLower\": 83,\n",
      "      \"BloodPressureHigher\": 190,\n",
      "      \"SAO2\": 99,\n",
      "      \"FIO2\": 0.0,\n",
      "      \"PainScore\": 0.0,\n",
      "      \"TriageCategory\": 0,\n",
      "      \"GCScore\": 0.0,\n",
      "      \"CreatedOn\": \"2017-07-18 17:59:00\"\n",
      "    }\n",
      "  ],\n",
      "  \"Appointments\": [\n",
      "    {\n",
      "      \"AppointmentNo\": 14516303,\n",
      "      \"AppointmentDate\": \"2018-07-02\",\n",
      "      \"PatientID\": 50172351,\n",
      "      \"ClinicID\": 8,\n",
      "      \"DoctorID\": 163154,\n",
      "      \"StartTime\": \"2025-06-24 17:16:00\",\n",
      "      \"EndTime\": \"2025-06-24 17:21:00\",\n",
      "      \"VisitType\": 3,\n",
      "      \"VisitFor\": 10\n",
      "    }\n",
      "  ],\n",
      "  \"DoctorOrders\": [\n",
      "    {\n",
      "      \"PatientID\": 50172351,\n",
      "      \"ActualOrderDate\": \"2017-08-07\",\n",
      "      \"ActualOrderTime\": \"16:23\",\n",
      "      \"OrderNotes\": \"send patient home\",\n",
      "      \"NursingNotes\": \"1620H - Discharged in good condition, vitally stable and no complaints. Left the unit ambulatory with his son. \"\n",
      "    }\n",
      "  ]\n",
      "}\n",
      "===========================\n"
     ]
    }
   ],
   "source": [
    "single_patient_id = 50172351 \n",
    "\n",
    "# Extract patient data\n",
    "patient_info = patient_df[patient_df[\"PatientID\"] == single_patient_id].to_dict(orient=\"records\")\n",
    "vital_signs = vitals_df[vitals_df[\"PatientID\"] == single_patient_id].to_dict(orient=\"records\")\n",
    "appointments = appointments_df[appointments_df[\"PatientID\"] == single_patient_id].to_dict(orient=\"records\")\n",
    "doctor_orders = docOrders_df[docOrders_df[\"PatientID\"] == single_patient_id].to_dict(orient=\"records\")\n",
    "\n",
    "# Function to remove NaN \n",
    "def clean_nan_records(record):\n",
    "    \"\"\"Remove keys with NaN values from a dictionary.\"\"\"\n",
    "    return {k: v for k, v in record.items() if pd.notna(v)}\n",
    " \n",
    "# Clean nested records\n",
    "vital_signs = [clean_nan_records(record) for record in vital_signs]\n",
    "appointments = [clean_nan_records(record) for record in appointments]\n",
    "doctor_orders = [clean_nan_records(record) for record in doctor_orders]\n",
    " \n",
    "# Clean patient info and remove duplicated PatientID key\n",
    "if patient_info:\n",
    "    patient_info_cleaned = clean_nan_records(patient_info[0])\n",
    "    patient_info_cleaned.pop(\"PatientID\", None)\n",
    "else:\n",
    "    patient_info_cleaned = {}\n",
    "\n",
    "# Build patient data dictionary\n",
    "patient_data = {\n",
    "    \"PatientID\": single_patient_id,\n",
    "    \"PatientInfo\": patient_info[0] if patient_info else {},\n",
    "    \"VitalSigns\": vital_signs,\n",
    "    \"Appointments\": appointments,\n",
    "    \"DoctorOrders\": doctor_orders,\n",
    "}\n",
    "\n",
    "# Print patient data before sending to AI model\n",
    "print(\"=== Patient Data to send ===\")\n",
    "print(json.dumps(patient_data, indent=2, ensure_ascii=False))\n",
    "print(\"===========================\")\n"
   ]
  },
  {
   "cell_type": "code",
   "execution_count": 7,
   "id": "b75d965d-dfaa-4d6b-8614-c2f569eb0ad5",
   "metadata": {},
   "outputs": [
    {
     "name": "stdout",
     "output_type": "stream",
     "text": [
      "This patient, Yusuf Abdullah Abdullah (Patient ID: 50172351), born on December 20, 1967, is a male of Saudi Arabian nationality. He registered on December 20, 2011, and had his first visit on the same day. His last visit was on June 25, 2018, having accumulated 19 visits. His mobile number is 555333541 and his email address is yusuf@mail.com. His emergency contact is NAWAL, reachable at 555333542. The registered doctor for this patient is 9802. His blood group is O, and his RH Factor is not specified.\n",
      "\n",
      "Latest vital signs recorded on July 18, 2017, at 17:59:00 include: Weight: 100.0 kg, Height: 167.0 cm, Body Mass Index: 0.0, Temperature: 36.9 Celcius, Pulse: 86 beats per minute, Respiration: 20 beats per minute, Blood Pressure: 190/83, SAO2: 99, FIO2: 0.0, Pain Score: 0.0, Triage Category: 0, and GC Score: 0.0.\n",
      "\n",
      "An upcoming appointment (Appointment No: 14516303) is scheduled for June 24, 2025, from 17:16:00 to 17:21:00 at Clinic ID 8 with Doctor ID 163154. This visit is of type 3 and is for purpose 10.\n",
      "\n",
      "The latest doctor's order, dated August 7, 2017, at 16:23, states 'send patient home'. Nursing notes from 16:20 on the same day indicate the patient was 'Discharged in good condition, vitally stable and no complaints. Left the unit ambulatory with his son.'\n"
     ]
    }
   ],
   "source": [
    "# Prepare prompt\n",
    "patient_data_str = json.dumps(patient_data, indent=2, ensure_ascii=False)\n",
    "prompt = (\n",
    "    \"Based on the data you read, give a clear and full human-readable summary about this patient. \"\n",
    "    \"If any value is 'nan', please include it explicitly in the summary. If the patient gender is 1 which indicates male then do not mention pregnancy because he is definatly not. Don't include (Here is a clear and full human-readable summary about the patient), start with the summary immediately. If you face a Nan value ignore it and do not mention the info related to it in the summary Here is the data:\\n\\n\"\n",
    "    + patient_data_str\n",
    ")\n",
    "\n",
    "# Generate summary\n",
    "response = client.models.generate_content(\n",
    "    model=\"gemini-2.5-flash\",\n",
    "    contents=prompt\n",
    ")\n",
    "\n",
    "# Add summary to patient data\n",
    "patient_data[\"Summary\"] = response.text\n",
    "\n",
    "print(response.text)"
   ]
  },
  {
   "cell_type": "code",
   "execution_count": 8,
   "id": "a82dbcd4-967c-4ff2-892f-ba426dc3e142",
   "metadata": {},
   "outputs": [
    {
     "name": "stdout",
     "output_type": "stream",
     "text": [
      "✅ Summary generated and saved to c:/Users/reema.alhenaki/Desktop/llama3_Data/data/json/single_patient_GeminiSummary.json\n"
     ]
    }
   ],
   "source": [
    "# Save patient data (with summary) to a JSON file\n",
    "output_path = \"c:/Users/reema.alhenaki/Desktop/llama3_Data/data/json/single_patient_GeminiSummary.json\"\n",
    "with open(output_path, \"w\", encoding=\"utf-8\") as f:\n",
    "    json.dump(patient_data, f, indent=2, ensure_ascii=False)\n",
    "\n",
    "print(f\"✅ Summary generated and saved to {output_path}\")\n"
   ]
  },
  {
   "cell_type": "code",
   "execution_count": null,
   "id": "b641ddf4-985d-47e7-aaaa-5f3ca5014d57",
   "metadata": {},
   "outputs": [],
   "source": []
  }
 ],
 "metadata": {
  "kernelspec": {
   "display_name": "Python (llama3_Data)",
   "language": "python",
   "name": "llama3_data"
  },
  "language_info": {
   "codemirror_mode": {
    "name": "ipython",
    "version": 3
   },
   "file_extension": ".py",
   "mimetype": "text/x-python",
   "name": "python",
   "nbconvert_exporter": "python",
   "pygments_lexer": "ipython3",
   "version": "3.11.13"
  }
 },
 "nbformat": 4,
 "nbformat_minor": 5
}

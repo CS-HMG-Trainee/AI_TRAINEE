{
 "cells": [
  {
   "cell_type": "code",
   "execution_count": 307,
   "id": "6dd81166-56fe-4a14-bd29-dad58642d3a3",
   "metadata": {},
   "outputs": [],
   "source": [
    "import os\n",
    "import pandas as pd\n",
    "from pandas_profiling import ProfileReport\n",
    "import numpy as np"
   ]
  },
  {
   "cell_type": "code",
   "execution_count": 308,
   "id": "bf74b525-e804-4187-8e12-0f5bccf28e9c",
   "metadata": {},
   "outputs": [],
   "source": [
    "import re"
   ]
  },
  {
   "cell_type": "code",
   "execution_count": 309,
   "id": "18d6e204-11da-4036-84ee-14c2580c5cf0",
   "metadata": {},
   "outputs": [],
   "source": [
    "#Read the files\n",
    "base_path = \"C:/Users/reema.alhenaki/Desktop/llama3_Data/data/split\"\n",
    "patient_df = pd.read_csv(os.path.join(base_path, \"HIS_Patient.csv\"))\n",
    "vitals_df = pd.read_csv(os.path.join(base_path, \"HIS_PatientVitalSigns.csv\"))\n",
    "appointments_df = pd.read_csv(os.path.join(base_path, \"HIS_Appointment.csv\"))\n",
    "docOrders_df = pd.read_csv(os.path.join(base_path, \"HIS_DoctorOrder.csv\"))"
   ]
  },
  {
   "cell_type": "code",
   "execution_count": 310,
   "id": "99a0512c-9c88-4646-ab26-ecb2cbf67466",
   "metadata": {},
   "outputs": [],
   "source": [
    "rows_with_nulls = patient_df[patient_df.isnull().any(axis=1)]"
   ]
  },
  {
   "cell_type": "code",
   "execution_count": 311,
   "id": "3574988b-1a85-49ed-89cb-8d1219abf7ac",
   "metadata": {},
   "outputs": [],
   "source": [
    "patient_df= patient_df[[\"PatientID\", \"RegistrationDate\", \"FirstName\", \"MiddleName\", \"LastName\", \"Gender\", \"DateofBirth\", \n",
    "                          \"NationalityID\", \"FirstVisit\", \"LastVisit\", \"NoOfVisit\", \"MobileNumber\", \"EmailAddress\", \"IsPregnant\",\n",
    "                          \"BloodGroup\", \"RHFactor\", \"RegisteredDoctor\", \"EmergencyContactName\", \"EmergencyContactNo\"]]"
   ]
  },
  {
   "cell_type": "code",
   "execution_count": 312,
   "id": "d1407140-e2a4-4d57-a255-14768502725d",
   "metadata": {},
   "outputs": [
    {
     "data": {
      "text/plain": [
       "(12, 19)"
      ]
     },
     "execution_count": 312,
     "metadata": {},
     "output_type": "execute_result"
    }
   ],
   "source": [
    "patient_df.shape"
   ]
  },
  {
   "cell_type": "code",
   "execution_count": 313,
   "id": "77044ef4-9029-4e79-af89-c0c3ab2d24ea",
   "metadata": {},
   "outputs": [],
   "source": [
    "#These are the columns that are important to use in production.\n",
    "#vitals_df= vitals_df[[ \"PatientID\", \"WeightKg\", \"HeightCm\", \"BodyMassIndex\", \"TemperatureCelcius\",\n",
    "                      #\"PulseBeatPerMinute\", \"RespirationBeatPerMinute\",\n",
    "                      #\"BloodPressureLower\", \"BloodPressureHigher\", \"SAO2\", \"FIO2\", \"PainScore\",\n",
    "                      #\"PainLocation\", \"PainDuration\", \"PainCharacter\", \"PainFrequency\",\n",
    "                      #\"TriageCategory\", \"GCScore\", \"CreatedOn\", \"Consciousness\", \"SkinColor\", \"OxygenTherapy\",\n",
    "                      #\"TypeofOxygenTherapy\", \"OxygenFlow\", \"UrineOP\", \"LevelOfConsciousness\", \"HEWSScore\", \"RequiredAction\",\n",
    "                      #\"ActionTaken\", \"SPO2\", \"VitalSignType\", \"Remarks\"]]"
   ]
  },
  {
   "cell_type": "code",
   "execution_count": 314,
   "id": "b931d9ae-859f-4d32-bdd2-e1776f30e676",
   "metadata": {},
   "outputs": [],
   "source": [
    "# These are the columns used in this stage (All NULL columns are removed)\n",
    "vitals_df= vitals_df[[ \"PatientID\", \"WeightKg\", \"HeightCm\", \"BodyMassIndex\", \"TemperatureCelcius\",\n",
    "                      \"PulseBeatPerMinute\", \"RespirationBeatPerMinute\",\n",
    "                      \"BloodPressureLower\", \"BloodPressureHigher\", \"SAO2\", \"FIO2\", \"PainScore\",\n",
    "                      \"PainLocation\", \"PainDuration\", \"PainCharacter\", \"PainFrequency\",\n",
    "                      \"TriageCategory\", \"GCScore\", \"CreatedOn\"]]"
   ]
  },
  {
   "cell_type": "code",
   "execution_count": 315,
   "id": "4a4dc98b-fb45-407e-a932-589904370b8f",
   "metadata": {},
   "outputs": [
    {
     "data": {
      "text/plain": [
       "(12, 19)"
      ]
     },
     "execution_count": 315,
     "metadata": {},
     "output_type": "execute_result"
    }
   ],
   "source": [
    "vitals_df.shape"
   ]
  },
  {
   "cell_type": "code",
   "execution_count": 316,
   "id": "57b2c9bc-a4ab-463d-bc75-f71373594d1f",
   "metadata": {},
   "outputs": [],
   "source": [
    "appointments_df= appointments_df[[ \"AppointmentNo\", \"AppointmentDate\",\"PatientID\",\n",
    "                                  \"ClinicID\", \"DoctorID\", \"StartTime\", \"EndTime\",\"VisitType\",\"VisitFor\",\n",
    "                                  \"Notes\", \"IsVirtual\"]]"
   ]
  },
  {
   "cell_type": "code",
   "execution_count": 317,
   "id": "ad1c2517-28bf-4f33-b9c2-8e2436f0679c",
   "metadata": {},
   "outputs": [
    {
     "data": {
      "text/plain": [
       "(12, 11)"
      ]
     },
     "execution_count": 317,
     "metadata": {},
     "output_type": "execute_result"
    }
   ],
   "source": [
    "appointments_df.shape"
   ]
  },
  {
   "cell_type": "code",
   "execution_count": 318,
   "id": "b6f64fef-6831-48d8-9500-79cf52a0e04c",
   "metadata": {},
   "outputs": [],
   "source": [
    "docOrders_df= docOrders_df[[\"PatientID\", \"ActualOrderDate\", \"ActualOrderTime\", \"OrderNotes\", \"NursingNotes\"]]"
   ]
  },
  {
   "cell_type": "code",
   "execution_count": 319,
   "id": "d1baa42f-fd0b-41ba-a4b7-7ae43cc5bd1d",
   "metadata": {},
   "outputs": [
    {
     "data": {
      "text/plain": [
       "(12, 5)"
      ]
     },
     "execution_count": 319,
     "metadata": {},
     "output_type": "execute_result"
    }
   ],
   "source": [
    "docOrders_df.shape"
   ]
  },
  {
   "cell_type": "code",
   "execution_count": 320,
   "id": "1762a570-353f-4d0a-8fb2-92f8eff22ca0",
   "metadata": {},
   "outputs": [
    {
     "name": "stdout",
     "output_type": "stream",
     "text": [
      "\n",
      "Patient Data Types:\n",
      " PatientID                        int64\n",
      "RegistrationDate        datetime64[ns]\n",
      "FirstName                       object\n",
      "MiddleName                      object\n",
      "LastName                        object\n",
      "Gender                           int64\n",
      "DateofBirth             datetime64[ns]\n",
      "NationalityID                   object\n",
      "FirstVisit              datetime64[ns]\n",
      "LastVisit               datetime64[ns]\n",
      "NoOfVisit                        int64\n",
      "MobileNumber                     int64\n",
      "EmailAddress                    object\n",
      "IsPregnant                       int64\n",
      "BloodGroup                       int64\n",
      "RHFactor                        object\n",
      "RegisteredDoctor                 int64\n",
      "EmergencyContactName            object\n",
      "EmergencyContactNo               int64\n",
      "dtype: object\n",
      "\n",
      "Vital Signs Data Types:\n",
      " PatientID                     int64\n",
      "WeightKg                    float64\n",
      "HeightCm                    float64\n",
      "BodyMassIndex               float64\n",
      "TemperatureCelcius          float64\n",
      "PulseBeatPerMinute            int64\n",
      "RespirationBeatPerMinute      int64\n",
      "BloodPressureLower            int64\n",
      "BloodPressureHigher           int64\n",
      "SAO2                          int64\n",
      "FIO2                        float64\n",
      "PainScore                   float64\n",
      "PainLocation                 object\n",
      "PainDuration                 object\n",
      "PainCharacter                object\n",
      "PainFrequency                object\n",
      "TriageCategory                int64\n",
      "GCScore                     float64\n",
      "CreatedOn                    object\n",
      "dtype: object\n",
      "\n",
      "Appointments Data Types:\n",
      " AppointmentNo               int64\n",
      "AppointmentDate    datetime64[ns]\n",
      "PatientID                   int64\n",
      "ClinicID                    int64\n",
      "DoctorID                    int64\n",
      "StartTime          datetime64[ns]\n",
      "EndTime            datetime64[ns]\n",
      "VisitType                   int64\n",
      "VisitFor                    int64\n",
      "Notes                      object\n",
      "IsVirtual                 float64\n",
      "dtype: object\n",
      "\n",
      "Doctor Notes Data Types:\n",
      " Unnamed: 0                  int64\n",
      "PatientID                   int64\n",
      "ActualOrderDate    datetime64[ns]\n",
      "ActualOrderTime    datetime64[ns]\n",
      "OrderNotes                 object\n",
      "NursingNotes               object\n",
      "dtype: object\n"
     ]
    },
    {
     "name": "stderr",
     "output_type": "stream",
     "text": [
      "/var/folders/cr/0rt_gyk14t78fv5h2f5vhdp80000gn/T/ipykernel_86118/1989131842.py:11: UserWarning: Could not infer format, so each element will be parsed individually, falling back to `dateutil`. To ensure parsing is consistent and as-expected, please specify a format.\n",
      "  df[col] = pd.to_datetime(df[col], errors='coerce')\n",
      "/var/folders/cr/0rt_gyk14t78fv5h2f5vhdp80000gn/T/ipykernel_86118/1989131842.py:11: UserWarning: Could not infer format, so each element will be parsed individually, falling back to `dateutil`. To ensure parsing is consistent and as-expected, please specify a format.\n",
      "  df[col] = pd.to_datetime(df[col], errors='coerce')\n"
     ]
    }
   ],
   "source": [
    "# Clean and Check Data Types\n",
    "def clean_table(df, date_columns):\n",
    "    # Drop duplicates\n",
    "    df = df.drop_duplicates()\n",
    "\n",
    "    # Convert date columns to datetime\n",
    "    for col in date_columns:\n",
    "        if col in df.columns:\n",
    "            df[col] = pd.to_datetime(df[col], errors='coerce')\n",
    "\n",
    "    # Reset index just in case\n",
    "    df = df.reset_index(drop=True)\n",
    "    \n",
    "    return df\n",
    "\n",
    "# Calling clean_table function to clean the tables. I also passes the columns with date type to ensure they are converted to datetime.\n",
    "patient_df = clean_table(patient_df, [\"RegistrationDate\",\"DateofBirth\", \"FirstVisit\", \"LastVisit\"])\n",
    "vitals_df = clean_table(vitals_df, [\"CreatdedOn\"])\n",
    "appointments_df = clean_table(appointments_df, [\"AppointmentDate\", \"StartTime\", \"EndTime\"])\n",
    "doc_orders_df = clean_table(doc_orders_df, [\"ActualOrderDate\", \"ActualOrderTime\"])\n",
    "\n",
    "#Converting int columns to int to ensure they have the acuurate data type.\n",
    "cols_to_convert_to_int = [\"BloodGroup\", \"NoOfVisit\", \"RegisteredDoctor\", \"EmergencyContactNo\"]\n",
    "\n",
    "for col in cols_to_convert_to_int:\n",
    "    patient_df[col] = patient_df[col].fillna(0).astype(int)\n",
    "\n",
    "\n",
    "# Optional: View data types\n",
    "print(\"\\nPatient Data Types:\\n\", patient_df.dtypes)\n",
    "print(\"\\nVital Signs Data Types:\\n\", vitals_df.dtypes)\n",
    "print(\"\\nAppointments Data Types:\\n\", appointments_df.dtypes)\n",
    "print(\"\\nDoctor Notes Data Types:\\n\", doc_orders_df.dtypes)\n",
    "\n"
   ]
  },
  {
   "cell_type": "code",
   "execution_count": 324,
   "id": "a3975c06-d88b-4eb0-8fc6-e31b873d7858",
   "metadata": {},
   "outputs": [],
   "source": [
    "#This function removes all the numbers in the EmergencyContactName and fill the number in EmergencyContactNo.\n",
    "\n",
    "def clean_emergency_contacts(df):\n",
    "    # 1. Remove leading/trailing spaces and ensure strings\n",
    "    df['EmergencyContactName'] = df['EmergencyContactName'].astype(str).str.strip()\n",
    "    df['EmergencyContactNo'] = df['EmergencyContactNo'].astype(str).str.strip()\n",
    "\n",
    "    # 2. Handle 'NULL', 'nan', empty strings, and '0' properly (set to NaN)\n",
    "    df['EmergencyContactNo'] = df['EmergencyContactNo'].replace(['nan', 'NaN', 'NULL', '', '0'], pd.NA)\n",
    "\n",
    "    # 3. Extract Saudi phone numbers from EmergencyContactName (starting with 05)\n",
    "    extracted_numbers = df['EmergencyContactName'].str.extract(r'(05\\d{8})')\n",
    "\n",
    "    # 4. Fill missing EmergencyContactNo with extracted numbers\n",
    "    df['EmergencyContactNo'] = df['EmergencyContactNo'].fillna(extracted_numbers[0])\n",
    "\n",
    "    # 5. Remove phone numbers (with optional dash) from EmergencyContactName\n",
    "    df['EmergencyContactName'] = df['EmergencyContactName'].str.replace(r'[-–]?\\s*05\\d{8}', '', regex=True).str.strip()\n",
    "\n",
    "    # 6. Remove leading zero from EmergencyContactNo to start with 5\n",
    "    df['EmergencyContactNo'] = df['EmergencyContactNo'].str.lstrip('0')\n",
    "\n",
    "    # 7. Replace empty or 'nan' names with 'Unknown'\n",
    "    df['EmergencyContactName'] = df['EmergencyContactName'].replace(['nan', 'NaN', 'NULL', ''], 'Unknown')\n",
    "\n",
    "    return df\n"
   ]
  },
  {
   "cell_type": "code",
   "execution_count": 325,
   "id": "b1d56812-8a87-41fc-a327-b5734ddbc114",
   "metadata": {},
   "outputs": [],
   "source": [
    "patient_df=clean_emergency_contacts(patient_df)"
   ]
  },
  {
   "cell_type": "code",
   "execution_count": 326,
   "id": "9c134b2a-fa79-4d58-a296-7ca27ebf2147",
   "metadata": {},
   "outputs": [
    {
     "data": {
      "text/html": [
       "<div>\n",
       "<style scoped>\n",
       "    .dataframe tbody tr th:only-of-type {\n",
       "        vertical-align: middle;\n",
       "    }\n",
       "\n",
       "    .dataframe tbody tr th {\n",
       "        vertical-align: top;\n",
       "    }\n",
       "\n",
       "    .dataframe thead th {\n",
       "        text-align: right;\n",
       "    }\n",
       "</style>\n",
       "<table border=\"1\" class=\"dataframe\">\n",
       "  <thead>\n",
       "    <tr style=\"text-align: right;\">\n",
       "      <th></th>\n",
       "      <th>EmergencyContactNo</th>\n",
       "      <th>EmergencyContactName</th>\n",
       "    </tr>\n",
       "  </thead>\n",
       "  <tbody>\n",
       "    <tr>\n",
       "      <th>0</th>\n",
       "      <td>543334375</td>\n",
       "      <td>AHMAD</td>\n",
       "    </tr>\n",
       "    <tr>\n",
       "      <th>1</th>\n",
       "      <td>NaN</td>\n",
       "      <td>Unknown</td>\n",
       "    </tr>\n",
       "    <tr>\n",
       "      <th>2</th>\n",
       "      <td>561301110</td>\n",
       "      <td>FAHAD</td>\n",
       "    </tr>\n",
       "    <tr>\n",
       "      <th>3</th>\n",
       "      <td>503151048</td>\n",
       "      <td>ABDULLAH</td>\n",
       "    </tr>\n",
       "    <tr>\n",
       "      <th>4</th>\n",
       "      <td>566282670</td>\n",
       "      <td>TURKI</td>\n",
       "    </tr>\n",
       "    <tr>\n",
       "      <th>5</th>\n",
       "      <td>548444121</td>\n",
       "      <td>WAIF</td>\n",
       "    </tr>\n",
       "    <tr>\n",
       "      <th>6</th>\n",
       "      <td>547715000</td>\n",
       "      <td>RAGAD FOR BILING</td>\n",
       "    </tr>\n",
       "    <tr>\n",
       "      <th>7</th>\n",
       "      <td>543053466</td>\n",
       "      <td>SON</td>\n",
       "    </tr>\n",
       "    <tr>\n",
       "      <th>8</th>\n",
       "      <td>507064483</td>\n",
       "      <td>DRIVER</td>\n",
       "    </tr>\n",
       "    <tr>\n",
       "      <th>9</th>\n",
       "      <td>544265053</td>\n",
       "      <td>KALAD</td>\n",
       "    </tr>\n",
       "    <tr>\n",
       "      <th>10</th>\n",
       "      <td>504105519</td>\n",
       "      <td>NAWAL</td>\n",
       "    </tr>\n",
       "    <tr>\n",
       "      <th>11</th>\n",
       "      <td>553335589</td>\n",
       "      <td>OMAR ALMUHAIDIEB</td>\n",
       "    </tr>\n",
       "  </tbody>\n",
       "</table>\n",
       "</div>"
      ],
      "text/plain": [
       "   EmergencyContactNo EmergencyContactName\n",
       "0           543334375                AHMAD\n",
       "1                 NaN              Unknown\n",
       "2           561301110                FAHAD\n",
       "3           503151048             ABDULLAH\n",
       "4           566282670                TURKI\n",
       "5           548444121                 WAIF\n",
       "6           547715000     RAGAD FOR BILING\n",
       "7           543053466                  SON\n",
       "8           507064483               DRIVER\n",
       "9           544265053                KALAD\n",
       "10          504105519                NAWAL\n",
       "11          553335589     OMAR ALMUHAIDIEB"
      ]
     },
     "execution_count": 326,
     "metadata": {},
     "output_type": "execute_result"
    }
   ],
   "source": [
    "patient_df[['EmergencyContactNo','EmergencyContactName']] \n"
   ]
  },
  {
   "cell_type": "code",
   "execution_count": 327,
   "id": "6471e493-cf0b-4fd2-90bf-eb6982bcc3fb",
   "metadata": {},
   "outputs": [],
   "source": [
    "import random\n",
    "\n",
    "# Sample name pools\n",
    "male_first_names = [\"Ahmed\", \"Faisal\", \"Omar\", \"Yusuf\", \"Khalid\"]\n",
    "female_first_names = [\"Aisha\", \"Fatimah\", \"Sara\", \"Noor\", \"Layla\"]\n",
    "middle_last_names = [\"Hassan\", \"Abdullah\", \"Salem\", \"Nasser\", \"Mubarak\"]\n",
    "\n",
    "# Gender-aware first name assignment\n",
    "def assign_first_name(gender):\n",
    "    if gender == 1:\n",
    "        return random.choice(male_first_names)\n",
    "    elif gender == 2:\n",
    "        return random.choice(female_first_names)\n",
    "    else:\n",
    "        return \"Unknown\"\n",
    "\n",
    "# Apply name replacements\n",
    "for col in [\"FirstName\", \"MiddleName\", \"LastName\"]:\n",
    "    mask = (patient_df[col] == \".\") | (patient_df[col].isna())\n",
    "    if col == \"FirstName\":\n",
    "        patient_df.loc[mask, col] = patient_df.loc[mask, \"Gender\"].apply(assign_first_name)\n",
    "    else:\n",
    "        patient_df.loc[mask, col] = [random.choice(middle_last_names) for _ in range(mask.sum())]\n",
    "\n",
    "# Create email address from first name\n",
    "patient_df[\"EmailAddress\"] = patient_df[\"FirstName\"].str.lower() + \"@mail.com\"\n"
   ]
  },
  {
   "cell_type": "code",
   "execution_count": 328,
   "id": "d31d907d-8afb-4dd1-b9c3-81559be61d09",
   "metadata": {},
   "outputs": [
    {
     "name": "stdout",
     "output_type": "stream",
     "text": [
      "All tables cleaned and saved successfully!\n"
     ]
    }
   ],
   "source": [
    "# Save Cleaned Files\n",
    "\n",
    "output_path = os.path.join(\"C:/Users/reema.alhenaki/Desktop/llama3_Data/data/cleaned\")\n",
    "os.makedirs(output_path, exist_ok=True)\n",
    "\n",
    "patient_df.to_csv(os.path.join(output_path, \"HIS_Patient.csv\"), index=False)\n",
    "vitals_df.to_csv(os.path.join(output_path, \"HIS_PatientVitalSigns.csv\"), index=False)\n",
    "appointments_df.to_csv(os.path.join(output_path, \"HIS_Appointment.csv\"), index=False)\n",
    "docOrders_df.to_csv(os.path.join(output_path, \"HIS_DoctorOrder.csv\"), index=False)\n",
    "\n",
    "print(\"All tables cleaned and saved successfully!\")"
   ]
  }
 ],
 "metadata": {
  "kernelspec": {
   "display_name": "Python (llama3_Data)",
   "language": "python",
   "name": "llama3_data"
  },
  "language_info": {
   "codemirror_mode": {
    "name": "ipython",
    "version": 3
   },
   "file_extension": ".py",
   "mimetype": "text/x-python",
   "name": "python",
   "nbconvert_exporter": "python",
   "pygments_lexer": "ipython3",
   "version": "3.11.13"
  }
 },
 "nbformat": 4,
 "nbformat_minor": 5
}

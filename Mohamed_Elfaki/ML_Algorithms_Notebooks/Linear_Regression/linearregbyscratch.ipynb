{
  "nbformat": 4,
  "nbformat_minor": 0,
  "metadata": {
    "colab": {
      "provenance": []
    },
    "kernelspec": {
      "name": "python3",
      "display_name": "Python 3"
    },
    "language_info": {
      "name": "python"
    }
  },
  "cells": [
    {
      "cell_type": "code",
      "execution_count": 31,
      "metadata": {
        "id": "2PdRxGf-F4w_"
      },
      "outputs": [],
      "source": [
        "import pandas as pd\n",
        "from sklearn.preprocessing import LabelEncoder\n",
        "from sklearn.model_selection import train_test_split"
      ]
    },
    {
      "cell_type": "code",
      "source": [
        "#\n",
        "df = pd.read_csv('/content/Housing.csv')\n",
        "le = LabelEncoder()\n",
        "df['mainroad']= le.fit_transform(df[\"mainroad\"])\n",
        "df['furnishingstatus'] = le.fit_transform(df[\"furnishingstatus\"])\n",
        "df['basement'] = le.fit_transform(df[\"basement\"])\n",
        "df['hotwaterheating'] = le.fit_transform(df[\"hotwaterheating\"])\n",
        "df['airconditioning'] = le.fit_transform(df[\"airconditioning\"])\n",
        "df['prefarea'] = le.fit_transform(df[\"prefarea\"])\n",
        "df['guestroom'] = le.fit_transform(df[\"guestroom\"])\n",
        "\n",
        "X= df.drop('price', axis=1).values\n",
        "Y= df['price'].values\n",
        "\n",
        "train_x, test_x, train_y, test_y = train_test_split(X, Y, test_size=0.7)"
      ],
      "metadata": {
        "id": "MYar9ytCGEC8"
      },
      "execution_count": 32,
      "outputs": []
    },
    {
      "cell_type": "markdown",
      "source": [
        "#EDA\n",
        "Column name discernments"
      ],
      "metadata": {
        "id": "CYhs2OYmRrC0"
      }
    },
    {
      "cell_type": "code",
      "source": [
        "df.columns"
      ],
      "metadata": {
        "colab": {
          "base_uri": "https://localhost:8080/"
        },
        "id": "JeCYeI4SRuPP",
        "outputId": "3ce208a7-8752-47bd-f318-9e896442cb21"
      },
      "execution_count": 33,
      "outputs": [
        {
          "output_type": "execute_result",
          "data": {
            "text/plain": [
              "Index(['price', 'area', 'bedrooms', 'bathrooms', 'stories', 'mainroad',\n",
              "       'guestroom', 'basement', 'hotwaterheating', 'airconditioning',\n",
              "       'parking', 'prefarea', 'furnishingstatus'],\n",
              "      dtype='object')"
            ]
          },
          "metadata": {},
          "execution_count": 33
        }
      ]
    },
    {
      "cell_type": "markdown",
      "source": [],
      "metadata": {
        "id": "QaEHGIQmTOZt"
      }
    },
    {
      "cell_type": "code",
      "source": [
        "bias = 0.01\n",
        "a= 0.000001\n",
        "theta = [0.1] * 13\n",
        "prediction=0\n",
        "error=0\n",
        "errors=[]"
      ],
      "metadata": {
        "id": "Hr6qlSOpGH1G"
      },
      "execution_count": 34,
      "outputs": []
    },
    {
      "cell_type": "markdown",
      "source": [
        "#Linear Regression Function\n",
        "Predict using the math used in Linear regression which returns a prediction based on the bias added to all thetas muliplied by the x value\n",
        "\n",
        "and that fucntion is called by every iteration in a nested for loop including epochs, the prediction is calclated along with the error and the weights and bias are updated.\n",
        "\n"
      ],
      "metadata": {
        "id": "EDO5NbUcTXIC"
      }
    },
    {
      "cell_type": "code",
      "source": [
        "def predict (thetas, features):\n",
        "    prediction = thetas[0]\n",
        "    for j in range(len(features)):\n",
        "        prediction += thetas[j+1] * features[j]\n",
        "    return prediction\n",
        "\n",
        "\n",
        "features = 12\n",
        "for epochs in range(100):\n",
        "    for i in range(len(train_y)):\n",
        "        prediction = predict(theta, train_x[i])\n",
        "        error = prediction - train_y[i]\n",
        "\n",
        "        theta[0] += -a * (1/len(train_x)) * error\n",
        "        for j in range(features):\n",
        "            theta[j+1] += -a * (1/len(train_x)) * (error * train_x[i][j])\n",
        "\n",
        "\n",
        "\n",
        "for i in range(len(test_x)):\n",
        "    prediction = predict(theta, test_x[i])\n",
        "    test_error = abs(prediction - test_y[i])\n",
        "    errors.append(test_error)\n",
        "\n",
        "\n",
        "\n",
        "\n"
      ],
      "metadata": {
        "id": "VYPSLt7fGLKo"
      },
      "execution_count": 35,
      "outputs": []
    },
    {
      "cell_type": "markdown",
      "source": [
        "#Validation\n",
        "To check if this linear regression amde from scratch works, I will Test the average error,min and max error and set an accurate estimate as anything within 2M of the actual value"
      ],
      "metadata": {
        "id": "PoaqTZE6ZaKk"
      }
    },
    {
      "cell_type": "code",
      "source": [
        "# Calculate performance without using sum()\n",
        "\n",
        "total_error = 0\n",
        "for error in errors:\n",
        "    total_error += error\n",
        "\n",
        "avg_error = total_error / len(errors)\n",
        "max_error = max(errors)\n",
        "min_error = min(errors)\n",
        "\n",
        "print(f\"Summary:\")\n",
        "print(f\"Test Set Size: {len(test_x)} houses\")\n",
        "print(f\"Average Error: ${avg_error:,.0f}\")\n",
        "print(f\"Maximum Error: ${max_error:,.0f}\")\n",
        "print(f\"Minimum Error: ${min_error:,.0f}\")\n",
        "\n",
        "# Calculate accuracy percentage\n",
        "accurate_predictions = 0\n",
        "for error in errors:\n",
        "    if error < 2000000:  # within 2M\n",
        "        accurate_predictions += 1\n",
        "\n",
        "accuracy_rate = (accurate_predictions / len(errors)) * 100\n",
        "print(f\"Predictions within $2M: {accurate_predictions}/{len(errors)} ({accuracy_rate:.1f}%)\")\n",
        "print(f\"Test Set Size: {len(test_x)} houses\")"
      ],
      "metadata": {
        "colab": {
          "base_uri": "https://localhost:8080/"
        },
        "id": "90hPCZi6UMdC",
        "outputId": "ca243b5b-4ed0-484b-c0ec-65b813924e20"
      },
      "execution_count": 36,
      "outputs": [
        {
          "output_type": "stream",
          "name": "stdout",
          "text": [
            "Summary:\n",
            "Test Set Size: 382 houses\n",
            "Average Error: $2,316,392\n",
            "Maximum Error: $9,555,594\n",
            "Minimum Error: $7,710\n",
            "Predictions within $2M: 182/382 (47.6%)\n",
            "Test Set Size: 382 houses\n"
          ]
        }
      ]
    }
  ]
}

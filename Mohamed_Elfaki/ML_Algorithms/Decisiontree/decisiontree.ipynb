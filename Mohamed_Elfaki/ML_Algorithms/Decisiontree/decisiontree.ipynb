{
  "nbformat": 4,
  "nbformat_minor": 0,
  "metadata": {
    "colab": {
      "provenance": []
    },
    "kernelspec": {
      "name": "python3",
      "display_name": "Python 3"
    },
    "language_info": {
      "name": "python"
    }
  },
  "cells": [
    {
      "cell_type": "code",
      "execution_count": 11,
      "metadata": {
        "id": "WG4lmQKtpjHS"
      },
      "outputs": [],
      "source": [
        "import pandas as pd\n",
        "from sklearn.model_selection import train_test_split"
      ]
    },
    {
      "cell_type": "code",
      "source": [
        "\n",
        "try:\n",
        "    df = pd.read_csv('/content/winequality-red.csv')\n",
        "except FileNotFoundError:\n",
        "    print(\"Error: winequality-red.csv not found!\")\n",
        "\n",
        "maxdepth= 8\n",
        "\n",
        "train_data , test_data = train_test_split(df,test_size=0.1,random_state=12)\n",
        "\n",
        "for dataset in [train_data, test_data]:\n",
        "    if dataset['quality'].dtype != 'object':\n",
        "        original_quality = dataset['quality'].copy()\n",
        "        dataset.loc[original_quality <= 5, 'quality'] = 'bad'\n",
        "        dataset.loc[original_quality >= 6, 'quality'] = 'good'\n",
        "\n",
        "\n",
        "\n",
        "\n",
        "\n"
      ],
      "metadata": {
        "colab": {
          "base_uri": "https://localhost:8080/"
        },
        "id": "QU7gZLU3ppSS",
        "outputId": "d0374319-d92d-469e-dee2-c3bf6d824428"
      },
      "execution_count": 12,
      "outputs": [
        {
          "output_type": "stream",
          "name": "stderr",
          "text": [
            "/tmp/ipython-input-12-404004229.py:13: FutureWarning: Setting an item of incompatible dtype is deprecated and will raise an error in a future version of pandas. Value 'bad' has dtype incompatible with int64, please explicitly cast to a compatible dtype first.\n",
            "  dataset.loc[original_quality <= 5, 'quality'] = 'bad'\n",
            "/tmp/ipython-input-12-404004229.py:13: FutureWarning: Setting an item of incompatible dtype is deprecated and will raise an error in a future version of pandas. Value 'bad' has dtype incompatible with int64, please explicitly cast to a compatible dtype first.\n",
            "  dataset.loc[original_quality <= 5, 'quality'] = 'bad'\n"
          ]
        }
      ]
    },
    {
      "cell_type": "markdown",
      "source": [
        "#EDA\n",
        "\n",
        "1.dataset overview\n",
        "\n",
        "2.Target variable distribution\n",
        "\n"
      ],
      "metadata": {
        "id": "drwSMEVCrFGL"
      }
    },
    {
      "cell_type": "code",
      "source": [
        "dataset.columns"
      ],
      "metadata": {
        "colab": {
          "base_uri": "https://localhost:8080/"
        },
        "id": "S-Sw1_zrrB26",
        "outputId": "0a26c438-c5d9-4d53-912f-d4232d856c9a"
      },
      "execution_count": 15,
      "outputs": [
        {
          "output_type": "execute_result",
          "data": {
            "text/plain": [
              "Index(['fixed acidity', 'volatile acidity', 'citric acid', 'residual sugar',\n",
              "       'chlorides', 'free sulfur dioxide', 'total sulfur dioxide', 'density',\n",
              "       'pH', 'sulphates', 'alcohol', 'quality'],\n",
              "      dtype='object')"
            ]
          },
          "metadata": {},
          "execution_count": 15
        }
      ]
    },
    {
      "cell_type": "code",
      "source": [
        "dataset.shape"
      ],
      "metadata": {
        "colab": {
          "base_uri": "https://localhost:8080/"
        },
        "id": "a4ZxIc1YrOBo",
        "outputId": "64b95be4-10c7-4e17-faa2-ed7fb7511fbf"
      },
      "execution_count": 16,
      "outputs": [
        {
          "output_type": "execute_result",
          "data": {
            "text/plain": [
              "(160, 12)"
            ]
          },
          "metadata": {},
          "execution_count": 16
        }
      ]
    },
    {
      "cell_type": "markdown",
      "source": [
        "No null columns therefore there is no data cleaning that must be performed"
      ],
      "metadata": {
        "id": "8XzOHpoQvQgn"
      }
    },
    {
      "cell_type": "code",
      "source": [
        "dataset.isnull().sum().sum()"
      ],
      "metadata": {
        "colab": {
          "base_uri": "https://localhost:8080/"
        },
        "id": "kEzoAomorXZk",
        "outputId": "4747e35f-c7a2-4674-f7b8-b25b2de00966"
      },
      "execution_count": 22,
      "outputs": [
        {
          "output_type": "execute_result",
          "data": {
            "text/plain": [
              "np.int64(0)"
            ]
          },
          "metadata": {},
          "execution_count": 22
        }
      ]
    },
    {
      "cell_type": "code",
      "source": [
        "dataset['quality'].value_counts().sort_index()"
      ],
      "metadata": {
        "colab": {
          "base_uri": "https://localhost:8080/",
          "height": 176
        },
        "id": "RMTDnTgsr5b8",
        "outputId": "675252d9-63ce-44c0-a498-df7639723e8b"
      },
      "execution_count": 24,
      "outputs": [
        {
          "output_type": "execute_result",
          "data": {
            "text/plain": [
              "quality\n",
              "bad     74\n",
              "good    86\n",
              "Name: count, dtype: int64"
            ],
            "text/html": [
              "<div>\n",
              "<style scoped>\n",
              "    .dataframe tbody tr th:only-of-type {\n",
              "        vertical-align: middle;\n",
              "    }\n",
              "\n",
              "    .dataframe tbody tr th {\n",
              "        vertical-align: top;\n",
              "    }\n",
              "\n",
              "    .dataframe thead th {\n",
              "        text-align: right;\n",
              "    }\n",
              "</style>\n",
              "<table border=\"1\" class=\"dataframe\">\n",
              "  <thead>\n",
              "    <tr style=\"text-align: right;\">\n",
              "      <th></th>\n",
              "      <th>count</th>\n",
              "    </tr>\n",
              "    <tr>\n",
              "      <th>quality</th>\n",
              "      <th></th>\n",
              "    </tr>\n",
              "  </thead>\n",
              "  <tbody>\n",
              "    <tr>\n",
              "      <th>bad</th>\n",
              "      <td>74</td>\n",
              "    </tr>\n",
              "    <tr>\n",
              "      <th>good</th>\n",
              "      <td>86</td>\n",
              "    </tr>\n",
              "  </tbody>\n",
              "</table>\n",
              "</div><br><label><b>dtype:</b> int64</label>"
            ]
          },
          "metadata": {},
          "execution_count": 24
        }
      ]
    },
    {
      "cell_type": "markdown",
      "source": [
        "#Node Class\n",
        "constructor with many local variables\n",
        "#Functions\n",
        "split children\n",
        "gini impurity\n",
        "find best split\n",
        "predict\n",
        "stop"
      ],
      "metadata": {
        "id": "CWg53GswsxC7"
      }
    },
    {
      "cell_type": "code",
      "source": [
        "\n",
        "class Node():\n",
        "    def __init__(self,data,features,depth=0):\n",
        "        self.depth=depth\n",
        "        self.data=data\n",
        "        self.good=len(self.data[self.data['quality']=='good'])\n",
        "        self.bad=len(self.data[self.data['quality']=='bad'])\n",
        "        self.isleaf=False\n",
        "        self.featurelist= features\n",
        "        self.rightdata= 0\n",
        "        self.leftdata=0\n",
        "        self.split_feature = None\n",
        "        self.split_threshold = None\n",
        "        if self.depth>= maxdepth:\n",
        "             self.stop()\n",
        "        else:\n",
        "            self.split_children()\n",
        "\n",
        "\n",
        "\n",
        "\n",
        "    # Functions\n",
        "\n",
        "\n",
        "    def split_children(self):\n",
        "        feature=self.featurelist[0]\n",
        "        data1,data2=[None],[None]\n",
        "        self.split_feature = feature\n",
        "        self.find_best_split(data1,data2,feature)\n",
        "        newftlist= self.featurelist.drop(feature)\n",
        "        if data1[0] is not None and data2[0] is not None:\n",
        "            self.right_child = Node(data1[0], newftlist, self.depth+1)\n",
        "            self.left_child = Node(data2[0], newftlist, self.depth+1)\n",
        "        else:\n",
        "             self.stop()\n",
        "\n",
        "\n",
        "\n",
        "    def gini_impurity(self,good,bad):\n",
        "        if good==0 or bad==0:\n",
        "            return 0\n",
        "\n",
        "        return 1 - ((good/(bad+good))**2) - ((bad/(bad+good))**2)\n",
        "\n",
        "\n",
        "\n",
        "    def find_best_split(self,data1,data2,feature):\n",
        "        bestgini=10000\n",
        "        threshold = None\n",
        "        bestleft= None\n",
        "        bestright= None\n",
        "\n",
        "        feature_unique_len = (self.data[feature].unique())\n",
        "        for i in feature_unique_len:\n",
        "            left = self.data[self.data[feature]>i]\n",
        "            right = self.data[self.data[feature]<=i]\n",
        "            left_gini = self.gini_impurity(len(left[left['quality']=='good']),len(left[left['quality']=='bad']))\n",
        "            right_gini = self.gini_impurity(len(right[right['quality']=='good']),len(right[right['quality']=='bad']))\n",
        "            total = len(left) + len(right)\n",
        "            gini = (len(left)/total)*left_gini + (len(right)/total)*(right_gini)\n",
        "\n",
        "            if gini<bestgini:\n",
        "                bestgini=gini\n",
        "                bestleft=left\n",
        "                bestright=right\n",
        "                threshold = i\n",
        "\n",
        "\n",
        "        self.split_threshold= threshold\n",
        "\n",
        "        data1[0]=bestleft\n",
        "        data2[0]=bestright\n",
        "        return bestgini\n",
        "\n",
        "\n",
        "    def predict(self,wine_sample):\n",
        "        if self.isleaf:\n",
        "            if self.good > self.bad:\n",
        "                return \"good\"\n",
        "            else:\n",
        "                return \"bad\"\n",
        "\n",
        "        wine_feature_value = wine_sample[self.split_feature]\n",
        "        if wine_feature_value <= self.split_threshold:\n",
        "            return self.left_child.predict(wine_sample)\n",
        "        else:\n",
        "            return self.right_child.predict(wine_sample)\n",
        "\n",
        "\n",
        "\n",
        "    def stop(self):\n",
        "        self.isleaf=True\n",
        "\n",
        "        total = len(test_data)"
      ],
      "metadata": {
        "id": "ZVbB8LHXppir"
      },
      "execution_count": 13,
      "outputs": []
    },
    {
      "cell_type": "markdown",
      "source": [
        "#Main function\n",
        "Prints some sample test data predictions along witht he actual value and shows the baseline accuracy along with increased accuracy due to the decision tree\n",
        "with depth 8"
      ],
      "metadata": {
        "id": "ML5isTybtEML"
      }
    },
    {
      "cell_type": "code",
      "source": [
        "def main():\n",
        "    tree = build_tree()\n",
        "    print(\"--- Decision Tree Validation ---\")\n",
        "\n",
        "    correct = 0\n",
        "    total = len(test_data)\n",
        "\n",
        "\n",
        "    for i in range(total):\n",
        "        sample = test_data.iloc[i]\n",
        "        actual = sample['quality']\n",
        "        predicted = tree.predict(sample)\n",
        "\n",
        "        if predicted == actual:\n",
        "            correct += 1\n",
        "\n",
        "\n",
        "        if i < 10:\n",
        "            match = \"✓\" if predicted == actual else \"✗\"\n",
        "            print(f\"Sample {i}: Predicted={predicted}, Actual={actual} {match}\")\n",
        "\n",
        "\n",
        "    accuracy = (correct / total) * 100\n",
        "    print(f\"\\n--- Results ---\")\n",
        "    print(f\"Correct predictions: {correct}/{total}\")\n",
        "    print(f\"Accuracy: {accuracy:.1f}%\")\n",
        "\n",
        "\n",
        "    good_count = len(test_data[test_data['quality'] == 'good'])\n",
        "    baseline = max(good_count, total - good_count) / total * 100\n",
        "    print(f\"Baseline (guessing majority): {baseline:.1f}%\")\n",
        "\n",
        "main()"
      ],
      "metadata": {
        "colab": {
          "base_uri": "https://localhost:8080/"
        },
        "id": "MdKhU7bLqWKb",
        "outputId": "0d20d687-1bef-4c4e-8459-077bf14bed93"
      },
      "execution_count": 14,
      "outputs": [
        {
          "output_type": "stream",
          "name": "stdout",
          "text": [
            "--- Decision Tree Validation ---\n",
            "Sample 0: Predicted=bad, Actual=good ✗\n",
            "Sample 1: Predicted=good, Actual=good ✓\n",
            "Sample 2: Predicted=good, Actual=good ✓\n",
            "Sample 3: Predicted=bad, Actual=bad ✓\n",
            "Sample 4: Predicted=bad, Actual=good ✗\n",
            "Sample 5: Predicted=bad, Actual=bad ✓\n",
            "Sample 6: Predicted=bad, Actual=bad ✓\n",
            "Sample 7: Predicted=bad, Actual=bad ✓\n",
            "Sample 8: Predicted=bad, Actual=bad ✓\n",
            "Sample 9: Predicted=good, Actual=good ✓\n",
            "\n",
            "--- Results ---\n",
            "Correct predictions: 120/160\n",
            "Accuracy: 75.0%\n",
            "Baseline (guessing majority): 53.8%\n"
          ]
        }
      ]
    },
    {
      "cell_type": "markdown",
      "source": [
        "#Checks the accuracy change\n",
        "with less depth (depth=4)"
      ],
      "metadata": {
        "id": "XR6XFD8wtgXI"
      }
    },
    {
      "cell_type": "code",
      "source": [
        "maxdepth= 4\n",
        "main()"
      ],
      "metadata": {
        "colab": {
          "base_uri": "https://localhost:8080/"
        },
        "id": "X01SDaPlsUwP",
        "outputId": "0db6bae4-0757-4636-9a6a-763f8bbf2eab"
      },
      "execution_count": 25,
      "outputs": [
        {
          "output_type": "stream",
          "name": "stdout",
          "text": [
            "--- Decision Tree Validation ---\n",
            "Sample 0: Predicted=good, Actual=good ✓\n",
            "Sample 1: Predicted=bad, Actual=good ✗\n",
            "Sample 2: Predicted=bad, Actual=good ✗\n",
            "Sample 3: Predicted=bad, Actual=bad ✓\n",
            "Sample 4: Predicted=good, Actual=good ✓\n",
            "Sample 5: Predicted=bad, Actual=bad ✓\n",
            "Sample 6: Predicted=bad, Actual=bad ✓\n",
            "Sample 7: Predicted=bad, Actual=bad ✓\n",
            "Sample 8: Predicted=bad, Actual=bad ✓\n",
            "Sample 9: Predicted=good, Actual=good ✓\n",
            "\n",
            "--- Results ---\n",
            "Correct predictions: 99/160\n",
            "Accuracy: 61.9%\n",
            "Baseline (guessing majority): 53.8%\n"
          ]
        }
      ]
    },
    {
      "cell_type": "markdown",
      "source": [
        "# accuracy change with higher depth\n",
        "\n",
        " (depth=9) some information loss has occured"
      ],
      "metadata": {
        "id": "kxh5KJF_tmrk"
      }
    },
    {
      "cell_type": "code",
      "source": [
        "maxdepth=9\n",
        "main()"
      ],
      "metadata": {
        "colab": {
          "base_uri": "https://localhost:8080/"
        },
        "id": "0W-LSoOTty9e",
        "outputId": "ba6bad69-20b8-453f-b987-2f0afe3afb1f"
      },
      "execution_count": 26,
      "outputs": [
        {
          "output_type": "stream",
          "name": "stdout",
          "text": [
            "--- Decision Tree Validation ---\n",
            "Sample 0: Predicted=bad, Actual=good ✗\n",
            "Sample 1: Predicted=good, Actual=good ✓\n",
            "Sample 2: Predicted=good, Actual=good ✓\n",
            "Sample 3: Predicted=bad, Actual=bad ✓\n",
            "Sample 4: Predicted=good, Actual=good ✓\n",
            "Sample 5: Predicted=bad, Actual=bad ✓\n",
            "Sample 6: Predicted=bad, Actual=bad ✓\n",
            "Sample 7: Predicted=bad, Actual=bad ✓\n",
            "Sample 8: Predicted=bad, Actual=bad ✓\n",
            "Sample 9: Predicted=good, Actual=good ✓\n",
            "\n",
            "--- Results ---\n",
            "Correct predictions: 119/160\n",
            "Accuracy: 74.4%\n",
            "Baseline (guessing majority): 53.8%\n"
          ]
        }
      ]
    },
    {
      "cell_type": "markdown",
      "source": [
        "#Results\n",
        "maxdepth = 8 gives best accuracy 75%\n",
        "\n",
        "any more max depth=9 accuracy decreases to 74.4%\n",
        "\n",
        "and and less maxdepth = 4 accuracy decreases to 61.9%"
      ],
      "metadata": {
        "id": "iqpeeYX2ulNT"
      }
    }
  ]
}
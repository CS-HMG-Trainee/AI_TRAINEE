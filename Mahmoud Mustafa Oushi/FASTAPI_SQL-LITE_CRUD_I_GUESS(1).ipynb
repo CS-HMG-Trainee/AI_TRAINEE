{
 "cells": [
  {
   "attachments": {
    "download1.png": {
     "image/png": "[encoded data removed]"
    }
   },
   "cell_type": "markdown",
   "id": "ac4354fd",
   "metadata": {},
   "source": [
    "![download1.png](attachment:download1.png)"
   ]
  },
  {
   "cell_type": "markdown",
   "id": "fdac4e0c",
   "metadata": {},
   "source": [
    "# FastAPI and SQL-Lite Practice\n",
    "\n",
    "the goal of this practice is to create a project linking fastAPI and sql lite and implement CRUD. the idea is to take the user names, display a message for them. when a usert is added they be given an id starting from 1. afterwards the user name can be edited or deleted accordingly. "
   ]
  },
  {
   "cell_type": "markdown",
   "id": "f004b37b",
   "metadata": {},
   "source": [
    "# uvicorn: something called ASGI which is a server to run the FastAPI app\n",
    "\n",
    "# sqlalchemy: DB ORM (object relational mapping) to run and interact with the sql-lite\n",
    " \n",
    "# nest_asyncio: to run it inside jupyter because it has an event loop of its own"
   ]
  },
  {
   "cell_type": "code",
   "execution_count": 1,
   "id": "4bef43e4",
   "metadata": {},
   "outputs": [
    {
     "name": "stdout",
     "output_type": "stream",
     "text": [
      "Requirement already satisfied: fastapi in c:\\users\\user\\anaconda33\\lib\\site-packages (0.116.0)\n",
      "Requirement already satisfied: uvicorn in c:\\users\\user\\anaconda33\\lib\\site-packages (0.35.0)\n",
      "Requirement already satisfied: sqlalchemy in c:\\users\\user\\anaconda33\\lib\\site-packages (1.4.39)\n",
      "Requirement already satisfied: nest_asyncio in c:\\users\\user\\anaconda33\\lib\\site-packages (1.5.6)\n",
      "Requirement already satisfied: starlette<0.47.0,>=0.40.0 in c:\\users\\user\\anaconda33\\lib\\site-packages (from fastapi) (0.46.2)\n",
      "Requirement already satisfied: pydantic!=1.8,!=1.8.1,!=2.0.0,!=2.0.1,!=2.1.0,<3.0.0,>=1.7.4 in c:\\users\\user\\anaconda33\\lib\\site-packages (from fastapi) (1.10.8)\n",
      "Requirement already satisfied: typing-extensions>=4.8.0 in c:\\users\\user\\anaconda33\\lib\\site-packages (from fastapi) (4.12.2)\n",
      "Requirement already satisfied: click>=7.0 in c:\\users\\user\\anaconda33\\lib\\site-packages (from uvicorn) (8.0.4)\n",
      "Requirement already satisfied: h11>=0.8 in c:\\users\\user\\anaconda33\\lib\\site-packages (from uvicorn) (0.16.0)\n",
      "Requirement already satisfied: greenlet!=0.4.17 in c:\\users\\user\\anaconda33\\lib\\site-packages (from sqlalchemy) (2.0.1)\n",
      "Requirement already satisfied: colorama in c:\\users\\user\\anaconda33\\lib\\site-packages (from click>=7.0->uvicorn) (0.4.6)\n",
      "Requirement already satisfied: anyio<5,>=3.6.2 in c:\\users\\user\\anaconda33\\lib\\site-packages (from starlette<0.47.0,>=0.40.0->fastapi) (4.9.0)\n",
      "Requirement already satisfied: idna>=2.8 in c:\\users\\user\\anaconda33\\lib\\site-packages (from anyio<5,>=3.6.2->starlette<0.47.0,>=0.40.0->fastapi) (3.4)\n",
      "Requirement already satisfied: sniffio>=1.1 in c:\\users\\user\\anaconda33\\lib\\site-packages (from anyio<5,>=3.6.2->starlette<0.47.0,>=0.40.0->fastapi) (1.2.0)\n"
     ]
    }
   ],
   "source": [
    "!pip install fastapi uvicorn sqlalchemy nest_asyncio"
   ]
  },
  {
   "cell_type": "markdown",
   "id": "89abb06f",
   "metadata": {},
   "source": [
    "# Database Setup\n",
    "\n",
    "importing the required functions from the sqlalcemy. the ones for creating the DB and connecting it to alchemy, initiating the contact, as well as creating the table and cols."
   ]
  },
  {
   "cell_type": "code",
   "execution_count": 2,
   "id": "e3db59e6",
   "metadata": {},
   "outputs": [],
   "source": [
    "from sqlalchemy import create_engine\n",
    "from sqlalchemy import Column\n",
    "from sqlalchemy import Integer\n",
    "from sqlalchemy import String\n",
    "from sqlalchemy.orm import declarative_base\n",
    "from sqlalchemy.orm import sessionmaker\n",
    "\n",
    "DATABASE_URL = \"sqlite:///./LeTest.db\" # the sql file that will be saved in the current running dir\n",
    "engine = create_engine(DATABASE_URL, connect_args={\"check_same_thread\": False}) # to connect the sql alchemy to the LeTest, thred thingy needed for multi-threded works like FastAPi\n",
    "SessionLocal = sessionmaker(bind=engine, autoflush=False, autocommit=False) # create the instance session to talk with the LeTest\n",
    "Base = declarative_base() # create the base class to drefine the DB tables\n",
    "\n",
    "# Creating the user table for the LeTest which for now only have a name and an ID that is updated with every commit and refresh\n",
    "class User(Base):\n",
    "    __tablename__ = \"users\"\n",
    "    id = Column(Integer, primary_key=True, index=True) # auto incremenating \n",
    "    name = Column(String, nullable=False)\n",
    "\n",
    "# creates the table if it does not exist already....which is true cuz it was just created. \n",
    "Base.metadata.create_all(bind=engine)"
   ]
  },
  {
   "cell_type": "markdown",
   "id": "d942dd1a",
   "metadata": {},
   "source": [
    "# FastAPI"
   ]
  },
  {
   "cell_type": "code",
   "execution_count": 3,
   "id": "b4a06698",
   "metadata": {},
   "outputs": [],
   "source": [
    "from fastapi import FastAPI # this is to initalise the app\n",
    "from fastapi import Depends # this allows for auto injection for stuff like the DB session\n",
    "from fastapi import HTTPException # to return page status like errors or not found\n",
    "from sqlalchemy.orm import Session\n",
    "\n",
    "app = FastAPI()\n",
    "\n",
    "# the bellow function starts the session and yields the endpoint and then finally closses it after the request is done.\n",
    "# now this is being gone through every time the depends (get_db) is called, the end point get passed each time.\n",
    "\n",
    "def get_db():\n",
    "    db = SessionLocal()\n",
    "    try:\n",
    "        yield db\n",
    "    finally:\n",
    "        db.close()\n",
    "        \n",
    "# endpoints creation\n",
    "\n",
    "# the bellow function is where the insertion of a new user will be. \n",
    "# in a field the user will type in a name, the name will be added to the users column, via a string in a query form. then committed and the DB will be refreshed\n",
    "# after each refresh if a new user is added, an ID will be added to them.\n",
    "# filly a message will be displayed to them\n",
    "\n",
    "@app.post(\"/users/\")\n",
    "def create_user(name: str, db: Session = Depends(get_db)):\n",
    "    user = User(name=name)\n",
    "    db.add(user)\n",
    "    db.commit()\n",
    "    db.refresh(user)\n",
    "    return {\"message\": f\"Hello, {user.name}! Your name is stored.\", \"id\": user.id}\n",
    "\n",
    "# the bellow asks the database for a list of all the users\n",
    "\n",
    "@app.get(\"/users/\")\n",
    "def get_all_users(db: Session = Depends(get_db)):\n",
    "    return db.query(User).all()\n",
    "\n",
    "# the bellow searches for a user by their ID, if the user is not found then an error will be displayed (👁️👄👁️🎬)\n",
    "\n",
    "@app.get(\"/users/{user_id}\")\n",
    "def get_user(user_id: int, db: Session = Depends(get_db)):\n",
    "    user = db.query(User).get(user_id)\n",
    "    if not user:\n",
    "        raise HTTPException(status_code=404, detail=\"User not found\")\n",
    "    return user\n",
    "\n",
    "# the bellow searches for the user using their id, then changes the name to an updated one of choice then commit that change. \n",
    "# if no user is found throw an error (👁️👄👁️🎬)\n",
    "# and since the new name will have the place of an older one, when refreshed no new id will be added\n",
    "\n",
    "@app.put(\"/users/{user_id}\")\n",
    "def update_user(user_id: int, name: str, db: Session = Depends(get_db)):\n",
    "    user = db.query(User).get(user_id)\n",
    "    if not user:\n",
    "        raise HTTPException(status_code=404, detail=\"User not found\")\n",
    "    user.name = name\n",
    "    db.commit()\n",
    "    return {\"message\": f\"User {user.id} updated to {user.name}\"}\n",
    "\n",
    "# the bellow delets the user of choice by their ID, and....if a user is not found, throw an error (👁️👄👁️🎬)\n",
    "\n",
    "@app.delete(\"/users/{user_id}\")\n",
    "def delete_user(user_id: int, db: Session = Depends(get_db)):\n",
    "    user = db.query(User).get(user_id)\n",
    "    if not user:\n",
    "        raise HTTPException(status_code=404, detail=\"User not found\")\n",
    "    db.delete(user)\n",
    "    db.commit()\n",
    "    return {\"message\": f\"User {user.id} deleted\"}"
   ]
  },
  {
   "cell_type": "markdown",
   "id": "40fa19f4",
   "metadata": {},
   "source": [
    "# Run the fastAPI in a background thread "
   ]
  },
  {
   "cell_type": "code",
   "execution_count": null,
   "id": "ff6b540c",
   "metadata": {},
   "outputs": [],
   "source": [
    "import threading\n",
    "import nest_asyncio # allows to be ran within the notebooks own event loop\n",
    "import uvicorn \n",
    "\n",
    "from fastapi import FastAPI\n",
    "\n",
    "nest_asyncio.apply()\n",
    "\n",
    "def run():\n",
    "    uvicorn.run(app, host=\"127.0.0.1\", port=8000) # sstart the session with (host=\"127.0.0.1\", port=8000)\n",
    "\n",
    "thread = threading.Thread(target=run, daemon=True) # deamon: when the kernal stops, stop the API as well\n",
    "thread.start()"
   ]
  },
  {
   "cell_type": "code",
   "execution_count": null,
   "id": "8865215e",
   "metadata": {},
   "outputs": [],
   "source": []
  }
 ],
 "metadata": {
  "kernelspec": {
   "display_name": "Python 3 (ipykernel)",
   "language": "python",
   "name": "python3"
  },
  "language_info": {
   "codemirror_mode": {
    "name": "ipython",
    "version": 3
   },
   "file_extension": ".py",
   "mimetype": "text/x-python",
   "name": "python",
   "nbconvert_exporter": "python",
   "pygments_lexer": "ipython3",
   "version": "3.11.5"
  }
 },
 "nbformat": 4,
 "nbformat_minor": 5
}

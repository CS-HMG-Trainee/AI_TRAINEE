{
 "cells": [
  {
   "cell_type": "markdown",
   "id": "0f0c2bf8",
   "metadata": {},
   "source": [
    "# This Week. Files shall be uploaded, User Queries Shall be Answered and The API Key Will hopefully NOT Run Out.\n",
    "\n",
    "\n",
    "![download (1).jpeg](data:image/jpeg;base64,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)"
   ]
  },
  {
   "cell_type": "markdown",
   "id": "9d62701d",
   "metadata": {},
   "source": [
    "# The API Model will be in another notebook cuz this one ran after a struggle, so i will not temper with it"
   ]
  },
  {
   "cell_type": "code",
   "execution_count": 7,
   "id": "3cd25925",
   "metadata": {},
   "outputs": [],
   "source": [
    "!pip install -q fastapi uvicorn nest_asyncio python-multipart transformers sentence-transformers langchain faiss-cpu"
   ]
  },
  {
   "cell_type": "markdown",
   "id": "78d18f29",
   "metadata": {},
   "source": [
    "# The Model in Here is FLAN-T5 Because for the sake of the task and the for my sanity working with this model as annoying as it is. it is at least familiar "
   ]
  },
  {
   "cell_type": "code",
   "execution_count": null,
   "id": "a9b53f21",
   "metadata": {},
   "outputs": [
    {
     "name": "stderr",
     "output_type": "stream",
     "text": [
      "Device set to use cpu\n"
     ]
    }
   ],
   "source": [
    "import nest_asyncio\n",
    "from fastapi import FastAPI, UploadFile, File\n",
    "from fastapi.responses import JSONResponse\n",
    "from fastapi.middleware.cors import CORSMiddleware\n",
    "import uvicorn\n",
    "import pandas as pd\n",
    "from transformers import pipeline\n",
    "from langchain.vectorstores import FAISS\n",
    "from langchain.embeddings import HuggingFaceEmbeddings\n",
    "from langchain.docstore.document import Document\n",
    "import io\n",
    "\n",
    "nest_asyncio.apply()\n",
    "\n",
    "app = FastAPI(title=\"LLM Q&A API with File Upload\")\n",
    "\n",
    "app.add_middleware(\n",
    "    CORSMiddleware,\n",
    "    allow_origins=[\"*\"],\n",
    "    allow_credentials=True,\n",
    "    allow_methods=[\"*\"],\n",
    "    allow_headers=[\"*\"],\n",
    ")\n",
    "\n",
    "vectorstore = None\n",
    "qa_pipeline = pipeline(\"text2text-generation\", model=\"google/flan-t5-base\")\n",
    "embedding_model = HuggingFaceEmbeddings(model_name=\"sentence-transformers/all-MiniLM-L6-v2\")"
   ]
  },
  {
   "cell_type": "markdown",
   "id": "d7c5ced9",
   "metadata": {},
   "source": [
    "# for some reason everytime i uploaded the file it would not except lists or anytype of conversion. texts worked but when i did it the first time it was tailored to the file infos. so to enable the user to upload their own files i used a method that makes them into documents"
   ]
  },
  {
   "cell_type": "code",
   "execution_count": null,
   "id": "ce3c0a74",
   "metadata": {},
   "outputs": [],
   "source": [
    "@app.post(\"/upload\")\n",
    "async def upload_file(file: UploadFile = File(...)):\n",
    "    global vectorstore\n",
    "    ext = file.filename.split('.')[-1]\n",
    "    \n",
    "\n",
    "    content = await file.read()\n",
    "    if ext == \"csv\":\n",
    "        df = pd.read_csv(io.BytesIO(content))\n",
    "    elif ext in [\"xlsx\", \"xls\"]:\n",
    "        df = pd.read_excel(io.BytesIO(content))\n",
    "    elif ext == \"json\":\n",
    "        df = pd.read_json(io.BytesIO(content))\n",
    "    else:\n",
    "        return JSONResponse(status_code=400, content={\"error\": \"Unsupported file type\"})\n",
    "    \n",
    "    docs = []\n",
    "    for i, row in df.iterrows():\n",
    "        text = \" | \".join([str(x) for x in row if pd.notna(x)])\n",
    "        docs.append(Document(page_content=text))\n",
    "\n",
    "    vectorstore = FAISS.from_documents(docs, embedding_model)\n",
    "    return {\"status\": \"File uploaded and vectorstore built\", \"rows\": len(docs)}"
   ]
  },
  {
   "cell_type": "markdown",
   "id": "7e5fdc04",
   "metadata": {},
   "source": [
    "# i tried with multiple 'k' values and anything higher than 3 just wouldnt work. either it will just crash or will give a.....not so logical answer"
   ]
  },
  {
   "cell_type": "code",
   "execution_count": null,
   "id": "00362111",
   "metadata": {},
   "outputs": [],
   "source": [
    "@app.get(\"/ask\")\n",
    "async def ask_question(query: str):\n",
    "    global vectorstore\n",
    "    if vectorstore is None:\n",
    "        return JSONResponse(status_code=400, content={\"error\": \"Upload data first\"})\n",
    "\n",
    "    docs = vectorstore.similarity_search(query, k=3)\n",
    "    context = \"\\n\".join([doc.page_content for doc in docs])\n",
    "\n",
    "    prompt = f\"Context: {context}\\n\\nQuestion: {query}\\nAnswer:\"\n",
    "    result = qa_pipeline(prompt, max_new_tokens=150)[0][\"generated_text\"]\n",
    "    \n",
    "    return {\"query\": query, \"answer\": result.strip()}"
   ]
  },
  {
   "cell_type": "code",
   "execution_count": null,
   "id": "d4cb501e",
   "metadata": {},
   "outputs": [
    {
     "name": "stderr",
     "output_type": "stream",
     "text": [
      "INFO:     Started server process [11388]\n",
      "INFO:     Waiting for application startup.\n"
     ]
    },
    {
     "name": "stderr",
     "output_type": "stream",
     "text": [
      "INFO:     Application startup complete.\n",
      "INFO:     Uvicorn running on http://127.0.0.1:8000 (Press CTRL+C to quit)\n"
     ]
    },
    {
     "name": "stdout",
     "output_type": "stream",
     "text": [
      "🔗 FastAPI is running! You can access the API at:\n",
      "http://127.0.0.1:8000/docs\n"
     ]
    },
    {
     "name": "stdout",
     "output_type": "stream",
     "text": [
      "INFO:     127.0.0.1:52071 - \"GET /docs HTTP/1.1\" 200 OK\n",
      "INFO:     127.0.0.1:52071 - \"GET /openapi.json HTTP/1.1\" 200 OK\n",
      "INFO:     127.0.0.1:52072 - \"POST /upload HTTP/1.1\" 200 OK\n"
     ]
    },
    {
     "name": "stderr",
     "output_type": "stream",
     "text": [
      "Token indices sequence length is longer than the specified maximum sequence length for this model (529 > 512). Running this sequence through the model will result in indexing errors\n"
     ]
    },
    {
     "name": "stdout",
     "output_type": "stream",
     "text": [
      "INFO:     127.0.0.1:52089 - \"GET /ask?query=what%20hospital%20has%20the%20best%20ratings%3F HTTP/1.1\" 200 OK\n"
     ]
    }
   ],
   "source": [
    "import threading\n",
    "import time\n",
    "from fastapi import FastAPI\n",
    "import uvicorn\n",
    "\n",
    "def run_app():\n",
    "    uvicorn.run(app, host=\"127.0.0.1\", port=8000)\n",
    "\n",
    "thread = threading.Thread(target=run_app)\n",
    "thread.start()\n",
    "\n",
    "time.sleep(2)\n",
    "\n",
    "print(\"FastAPI is running! You can access the API at:\")\n",
    "print(\"http://127.0.0.1:8000/docs\")"
   ]
  },
  {
   "cell_type": "code",
   "execution_count": null,
   "id": "7d792bba",
   "metadata": {},
   "outputs": [],
   "source": []
  }
 ],
 "metadata": {
  "kernelspec": {
   "display_name": "base",
   "language": "python",
   "name": "python3"
  },
  "language_info": {
   "codemirror_mode": {
    "name": "ipython",
    "version": 3
   },
   "file_extension": ".py",
   "mimetype": "text/x-python",
   "name": "python",
   "nbconvert_exporter": "python",
   "pygments_lexer": "ipython3",
   "version": "3.13.5"
  }
 },
 "nbformat": 4,
 "nbformat_minor": 5
}
